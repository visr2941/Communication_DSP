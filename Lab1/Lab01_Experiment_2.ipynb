{
 "cells": [
  {
   "cell_type": "markdown",
   "metadata": {},
   "source": [
    "# Lab 01, Experiment - 2\n",
    "(Just run the Run All Command, all output will be again reappeared)"
   ]
  },
  {
   "cell_type": "markdown",
   "metadata": {},
   "source": [
    "# Part (a)  ---- Converting the ASCII sequence \"Test\" to bit stream and plotting it and then creating a MyTest.wav file with MyTest as ASCII characters"
   ]
  },
  {
   "cell_type": "code",
   "execution_count": 1,
   "metadata": {
    "collapsed": true
   },
   "outputs": [],
   "source": [
    "%matplotlib inline"
   ]
  },
  {
   "cell_type": "markdown",
   "metadata": {},
   "source": [
    "# Completing the ascfun.py code to generate bit stream"
   ]
  },
  {
   "cell_type": "code",
   "execution_count": 2,
   "metadata": {
    "collapsed": true
   },
   "outputs": [],
   "source": [
    "# %load ascfun\n",
    "# Functions for conversion between ASCII and bits\n",
    "\n",
    "from pylab import *\n",
    "\n",
    "def asc2bin(txt,bits=8):\n",
    "\t\"\"\"\n",
    "\tASCII text to serial binary conversion\n",
    "\t>>>> dn = asc2bin(txt, bits8) <<<<\n",
    "\twhere txt \t\tinput text string\n",
    "\tabs(bits)\t\tbits per character\n",
    "\tbits > 0\t\tLSB first parallel to serial\n",
    "\tbits < 0\t\tMSB first parallel to serial\n",
    "\tdn\t\t\tbinary output sequence\n",
    "\t\"\"\"\n",
    "\t\n",
    "\ttxtnum = array([ord(c) for c in txt])    # changing text character to it's ascii value\n",
    "\tif bits > 0:\n",
    "\t\tp2 = np.power(2.0,arange(0,-bits,-1))   # making an array of decreasing exponential of 2\n",
    "\telse:\n",
    "\t\tp2 = np.power(2.0,1+arange(bits,0))\t # making an array of increasing exponential of 2\n",
    "\n",
    "\tB = array(mod(array(floor(outer(txtnum,p2)),int),2),int8) \t# a matrix containing the vector of bits of each character as a row\n",
    "\tdn = reshape(B,B.size)\n",
    "\treturn dn\t\t# serial binary output\n",
    "\n",
    "def bin2asc(dn, bits=8, flg=1):\n",
    "\t\"\"\"\n",
    "\tSerial binary to ASCII text conversion\n",
    "\t>>>> txt = bin2asc(dn, bits, flg) <<<<\n",
    "        where dn \t\tbinary input sequence\n",
    "\tabs(bits)               bits per character\n",
    "        bits > 0                LSB first parallel to serial\n",
    "        bits < 0                MSB first parallel to serial\n",
    "\tflg != 0\t\tlimit range to [0...127]\n",
    "\ttxt \t\t\toutput text string\n",
    "\t\"\"\"\n",
    "\t\n",
    "\tC = array(reshape(dn,(dn.size/8,8)),int)\n",
    "\t\n",
    "\tif bits > 0:\n",
    "\t\tp2 = np.power(2,arange(0,bits)).T \t # making an array of increasing exponential of 2\n",
    "\telse:\n",
    "\t\tp2 = np.power(2,arange(bits,0,-1)-1).T \t\t# making an array of increasing exponential of 2\n",
    "\n",
    "\tnum4txt = dot(C,p2)\t\t\t\t# making an array of ASCII code from the binary coded characters\n",
    "\ttxt = ''.join([chr(c) for c in num4txt])\t# making a list of txt character and then joining it to make the required text\n",
    "\treturn txt\t\n",
    "\t\n"
   ]
  },
  {
   "cell_type": "markdown",
   "metadata": {},
   "source": [
    "# Generating a code titled ftpam01.py and generating the bit stream of ASCII characters \"Test\""
   ]
  },
  {
   "cell_type": "code",
   "execution_count": 3,
   "metadata": {
    "collapsed": false
   },
   "outputs": [
    {
     "data": {
      "text/plain": [
       "(-0.2, 1.2)"
      ]
     },
     "execution_count": 3,
     "metadata": {},
     "output_type": "execute_result"
    },
    {
     "data": {
      "image/png": "[encoded data removed]",
      "text/plain": [
       "<matplotlib.figure.Figure at 0x7f7b1fa8d518>"
      ]
     },
     "metadata": {},
     "output_type": "display_data"
    }
   ],
   "source": [
    "# This program will accpet the text string and convert\n",
    "# it into flat top PAM s(t) signal.\n",
    "\n",
    "from pylab import *\n",
    "from ascfun import *\n",
    "import wavfun as wf\n",
    "\n",
    "#txt = input(\"Enter the text: \")\n",
    "txt='Test'                          # the required input is \"Test\"\n",
    "fs = 44100\n",
    "fb = 100\n",
    "tb = 1/float(fb)\n",
    "\n",
    "dn = asc2bin(txt)   # as2bin will change the txt to stream of bits\n",
    "n=len(dn) \t# length of dn sequence\n",
    "ixl = round(-0.5*tb*fs) \t# the starting left index of the st\n",
    "ixr = round((n-0.5)*fs*tb)\t# the right most index of the st\n",
    "tt = arange(ixl,ixr)/float(fs)  # time axis for st\n",
    "\n",
    "\n",
    "# making differtial of the sequence and the integrating it\n",
    "\n",
    "dnt = diff(hstack((0,dn)))*fs    # taking differential of dn\n",
    "\n",
    "ddnt=[]\n",
    "for i in dnt:       # adding zeros in between two dn bits \n",
    "\tddnt = ddnt + [i] + list(zeros(round(tb*fs)-1)) \n",
    "\n",
    "\n",
    "ddnt_prime = array(ddnt)   \t# changing list into numpy array\n",
    "st = cumsum(ddnt_prime)/float(fs)      # integrating the differential of st to get st\n",
    "\n",
    "# Plotting the st\n",
    "\n",
    "plot(tt, st,'-b',arange(0,n)/float(fb),dn,'xr')\n",
    "grid()\n",
    "xlabel('time ---->')\n",
    "ylabel('st ---->')\n",
    "title('Unipolar flat Top-PAM signal for input text \"%s\" \\n with fb = 1/tb = %s Hz' %(txt,fb))\n",
    "ylim([-0.2,1.2])\n",
    "\n"
   ]
  },
  {
   "cell_type": "markdown",
   "metadata": {},
   "source": [
    "# Now generating a MyTest.wav file for input \"MyTest\""
   ]
  },
  {
   "cell_type": "code",
   "execution_count": 4,
   "metadata": {
    "collapsed": false
   },
   "outputs": [],
   "source": [
    "# This program will accpet the text string and convert\n",
    "# it into flat top PAM s(t) signal.\n",
    "\n",
    "from pylab import *\n",
    "from ascfun import *\n",
    "import wavfun as wf\n",
    "\n",
    "#txt = input(\"Enter the text: \")\n",
    "txt='MyTest'                          # the required input is \"Test\"\n",
    "fs = 44100\n",
    "fb = 100\n",
    "tb = 1/float(fb)\n",
    "\n",
    "dn = asc2bin(txt)   # as2bin will change the txt to stream of bits\n",
    "n=len(dn) \t# length of dn sequence\n",
    "ixl = round(-0.5*tb*fs) \t# the starting left index of the st\n",
    "ixr = round((n-0.5)*fs*tb)\t# the right most index of the st\n",
    "tt = arange(ixl,ixr)/float(fs)  # time axis for st\n",
    "\n",
    "\n",
    "# making differtial of the sequence and the integrating it\n",
    "\n",
    "dnt = diff(hstack((0,dn)))*fs    # taking differential of dn\n",
    "\n",
    "ddnt=[]\n",
    "for i in dnt:       # adding zeros in between two dn bits \n",
    "\tddnt = ddnt + [i] + list(zeros(round(tb*fs)-1)) \n",
    "\n",
    "\n",
    "ddnt_prime = array(ddnt)   \t# changing list into numpy array\n",
    "st = cumsum(ddnt_prime)/float(fs)      # integrating the differential of st to get st\n",
    "\n",
    "wf.wavwrite(0.999*st/float(max(abs(st))),fs,'MyTest.wav')    # Write wav-file\n"
   ]
  },
  {
   "cell_type": "markdown",
   "metadata": {},
   "source": [
    "# After running the above code, MyTest.wav file has been created in the working directory"
   ]
  },
  {
   "cell_type": "code",
   "execution_count": null,
   "metadata": {
    "collapsed": true
   },
   "outputs": [],
   "source": []
  },
  {
   "cell_type": "code",
   "execution_count": null,
   "metadata": {
    "collapsed": true
   },
   "outputs": [],
   "source": []
  },
  {
   "cell_type": "code",
   "execution_count": null,
   "metadata": {
    "collapsed": true
   },
   "outputs": [],
   "source": []
  },
  {
   "cell_type": "code",
   "execution_count": null,
   "metadata": {
    "collapsed": true
   },
   "outputs": [],
   "source": []
  },
  {
   "cell_type": "code",
   "execution_count": null,
   "metadata": {
    "collapsed": true
   },
   "outputs": [],
   "source": []
  },
  {
   "cell_type": "code",
   "execution_count": null,
   "metadata": {
    "collapsed": true
   },
   "outputs": [],
   "source": []
  },
  {
   "cell_type": "code",
   "execution_count": null,
   "metadata": {
    "collapsed": true
   },
   "outputs": [],
   "source": []
  },
  {
   "cell_type": "markdown",
   "metadata": {},
   "source": [
    "# Part (b) "
   ]
  },
  {
   "cell_type": "markdown",
   "metadata": {},
   "source": [
    "# Generating the content of MyTest.wav file by creating a ftpam_rcvr01.py code"
   ]
  },
  {
   "cell_type": "code",
   "execution_count": 5,
   "metadata": {
    "collapsed": false
   },
   "outputs": [
    {
     "name": "stdout",
     "output_type": "stream",
     "text": [
      "\n",
      "The content of the wav file is \"MyTest\"\n",
      "\n"
     ]
    }
   ],
   "source": [
    "# File: ftpam_rcvr01.py\n",
    "# Script file that accepts a binary unipolar flat top PAM\n",
    "# signal r(t) with bitrate fb and sampling rate fs\n",
    "# as input and decodes it into a received text string.\n",
    "# The PAM signal r(t) is received from a wav-file with\n",
    "# sampling rate fs. First r(t) is sampled at the right DT sequence \n",
    "# sampling times, spaced tb = 1/fb apart. The result is then \n",
    "# quantized to binary (0 or 1) to form the \n",
    "# estimated received sequence dnhat which is subsequently\n",
    "# converted to 8 bit ASCII text.\n",
    "\n",
    "from pylab import *\n",
    "import ascfun as af\n",
    "import wavfun as wf\n",
    "#filename = input(\"Enter the file name (wav): \")\n",
    "rt, fs = wf.wavread(\"MyTest.wav\")\n",
    "\n",
    "fb = 100 \n",
    "tb = 1/float(fb)\n",
    "\n",
    "bits = 8\n",
    "n = int(floor(len(rt)/float(fs)/tb)) \t# number of received bits\n",
    "\n",
    "rt = list(rt)  \t# changing rt into list type\n",
    "comp_val = (max(rt) + min(rt))/2.0 \t# taking mid value for estimation\n",
    "\n",
    "######### getting sample of rt signal #######\n",
    "\n",
    "dnhat=[]\n",
    "for i in range(n):\n",
    "\td_prime = rt[i*round(fs*tb):(i+1)*round(fs*tb)]\n",
    "\tavg = sum(d_prime) / round(fs*tb)     # averaging out the one bit window and the comapring\n",
    "\tif avg > 0.5:\n",
    "\t\tdnhat = dnhat + [1]\n",
    "\telse:\n",
    "\t\tdnhat = dnhat + [0]\n",
    "\n",
    "#####################################################\n",
    "dnhat = array(dnhat,int8)\t # converting list into binary array\n",
    "\n",
    "print(\"\")\n",
    "print('The content of the wav file is \"%s\"' %af.bin2asc(dnhat))\n",
    "print(\"\")\n",
    "\n"
   ]
  },
  {
   "cell_type": "markdown",
   "metadata": {},
   "source": [
    "# By running the above code with file input as \"MyTest.wav\", we found that the text decoded is \"MyTest\""
   ]
  },
  {
   "cell_type": "code",
   "execution_count": null,
   "metadata": {
    "collapsed": true
   },
   "outputs": [],
   "source": []
  },
  {
   "cell_type": "markdown",
   "metadata": {},
   "source": [
    "# Now trying to decode the text content of file ftpam_sig01.wav using the same python code ftpam_rcvr01.py "
   ]
  },
  {
   "cell_type": "code",
   "execution_count": 2,
   "metadata": {
    "collapsed": false
   },
   "outputs": [
    {
     "name": "stdout",
     "output_type": "stream",
     "text": [
      "\n",
      "The content of the wav file is \"Networking\"\n",
      "\n"
     ]
    }
   ],
   "source": [
    "# File: ftpam_rcvr01.py\n",
    "# Script file that accepts a binary unipolar flat top PAM\n",
    "# signal r(t) with bitrate fb and sampling rate fs\n",
    "# as input and decodes it into a received text string.\n",
    "# The PAM signal r(t) is received from a wav-file with\n",
    "# sampling rate fs. First r(t) is sampled at the right DT sequence \n",
    "# sampling times, spaced tb = 1/fb apart. The result is then \n",
    "# quantized to binary (0 or 1) to form the \n",
    "# estimated received sequence dnhat which is subsequently\n",
    "# converted to 8 bit ASCII text.\n",
    "\n",
    "from pylab import *\n",
    "import ascfun as af\n",
    "import wavfun as wf\n",
    "#filename = input(\"Enter the file name (wav): \")\n",
    "rt, fs = wf.wavread(\"ftpam_sig01.wav\")\n",
    "\n",
    "fb = 100                                         # Given in the question\n",
    "tb = 1/float(fb)\n",
    "\n",
    "bits = 8\n",
    "n = int(floor(len(rt)/float(fs)/tb)) \t# number of received bits\n",
    "\n",
    "rt = list(rt)  \t# changing rt into list type\n",
    "comp_val = (max(rt) + min(rt))/2.0 \t# taking mid value for estimation\n",
    "\n",
    "######### getting sample of rt signal #######\n",
    "\n",
    "dnhat=[]\n",
    "for i in range(n):\n",
    "\td_prime = rt[i*round(fs*tb):(i+1)*round(fs*tb)]\n",
    "\tavg = sum(d_prime) / round(fs*tb)     # averaging out the one bit window and the comapring\n",
    "\tif avg > 0.5:\n",
    "\t\tdnhat = dnhat + [1]\n",
    "\telse:\n",
    "\t\tdnhat = dnhat + [0]\n",
    "\n",
    "#####################################################\n",
    "dnhat = array(dnhat,int8)\t # converting list into binary array\n",
    "\n",
    "print(\"\")\n",
    "print('The content of the wav file is \"%s\"' %af.bin2asc(dnhat))\n",
    "print(\"\")\n",
    "\n"
   ]
  },
  {
   "cell_type": "markdown",
   "metadata": {},
   "source": [
    "# We decoded the text content of file ftpam_sig01.wav using the same python code ftpam_rcvr01.py and the text is \"Networking\" "
   ]
  },
  {
   "cell_type": "code",
   "execution_count": null,
   "metadata": {
    "collapsed": false
   },
   "outputs": [],
   "source": []
  },
  {
   "cell_type": "code",
   "execution_count": null,
   "metadata": {
    "collapsed": false
   },
   "outputs": [],
   "source": []
  },
  {
   "cell_type": "code",
   "execution_count": null,
   "metadata": {
    "collapsed": false
   },
   "outputs": [],
   "source": []
  },
  {
   "cell_type": "code",
   "execution_count": null,
   "metadata": {
    "collapsed": true
   },
   "outputs": [],
   "source": []
  },
  {
   "cell_type": "code",
   "execution_count": null,
   "metadata": {
    "collapsed": false
   },
   "outputs": [],
   "source": []
  },
  {
   "cell_type": "code",
   "execution_count": null,
   "metadata": {
    "collapsed": true
   },
   "outputs": [],
   "source": []
  },
  {
   "cell_type": "markdown",
   "metadata": {},
   "source": [
    "# Part (c)"
   ]
  },
  {
   "cell_type": "markdown",
   "metadata": {},
   "source": [
    "# To find the bit rate of file ftpam_sig02.wav and decode the text content of the same along with the noise corrupted file ftpam_sig03.wav using the same noise robust code \"ftpam_rcvr01.py\""
   ]
  },
  {
   "cell_type": "markdown",
   "metadata": {},
   "source": [
    "# Below is the code to find the approx bit rate of file ftpam_sig02.wav"
   ]
  },
  {
   "cell_type": "code",
   "execution_count": 7,
   "metadata": {
    "collapsed": false
   },
   "outputs": [
    {
     "name": "stdout",
     "output_type": "stream",
     "text": [
      "The approx. bit rate is below \n",
      "302.05479452054794\n"
     ]
    }
   ],
   "source": [
    "# %load to_find_bit_rate.py\n",
    "from pylab import *\n",
    "import ascfun as af\n",
    "import wavfun as wf\n",
    "###filename = input(\"Enter the file name (wav): \")\n",
    "rt, fs = wf.wavread(\"ftpam_sig02.wav\")\n",
    "bits = 8\n",
    "#n = int(floor(len(rt)/float(fs)/tb)) \t\n",
    "\n",
    "dn=[]\n",
    "comp_val = (max(rt) + min(rt))/2.0\n",
    "for j in rt:\n",
    "\tif j > comp_val:\n",
    "\t\tdn = dn + [1]\n",
    "\telse:\n",
    "\t\tdn = dn + [0]\n",
    "\n",
    "\n",
    "k=dn[0]\n",
    "n=0\n",
    "lst=[]\n",
    "\n",
    "# This will count consecutive zeros or ones in the bit stream sequence of file\n",
    "# and the bit rate will be fs divided by the minimum of this count\n",
    "\n",
    "for i in dn:\n",
    "\tif k == i:\n",
    "\t\tn=n+1\n",
    "\t\tcontinue\n",
    "\telse:\n",
    "\t\tk=i\n",
    "\t\tlst = lst + [n]\n",
    "\t\tn=0\n",
    "\n",
    "\n",
    "print(\"The approx. bit rate is below \")\n",
    "print(fs/min(lst))\n"
   ]
  },
  {
   "cell_type": "markdown",
   "metadata": {},
   "source": [
    "# After careful calculation and manipulation, we found that the working bit rate is actually equal to 300 Hz. Using this bit rate, we will try to decode the text in this file."
   ]
  },
  {
   "cell_type": "code",
   "execution_count": 5,
   "metadata": {
    "collapsed": false
   },
   "outputs": [
    {
     "name": "stdout",
     "output_type": "stream",
     "text": [
      "\n",
      "The content of the wav file is \"Who is Tuna \"Phish\"?\"\n",
      "\n"
     ]
    }
   ],
   "source": [
    "# File: ftpam_rcvr01.py\n",
    "# Script file that accepts a binary unipolar flat top PAM\n",
    "# signal r(t) with bitrate fb and sampling rate fs\n",
    "# as input and decodes it into a received text string.\n",
    "# The PAM signal r(t) is received from a wav-file with\n",
    "# sampling rate fs. First r(t) is sampled at the right DT sequence \n",
    "# sampling times, spaced tb = 1/fb apart. The result is then \n",
    "# quantized to binary (0 or 1) to form the \n",
    "# estimated received sequence dnhat which is subsequently\n",
    "# converted to 8 bit ASCII text.\n",
    "\n",
    "from pylab import *\n",
    "import ascfun as af\n",
    "import wavfun as wf\n",
    "#filename = input(\"Enter the file name (wav): \")\n",
    "rt, fs = wf.wavread(\"ftpam_sig02.wav\")\n",
    "\n",
    "fb = 300                                         # Given in the question\n",
    "tb = 1/float(fb)\n",
    "\n",
    "bits = 8\n",
    "n = int(floor(len(rt)/float(fs)/tb)) \t# number of received bits\n",
    "\n",
    "rt = list(rt)  \t# changing rt into list type\n",
    "comp_val = (max(rt) + min(rt))/2.0 \t# taking mid value for estimation\n",
    "\n",
    "######### getting sample of rt signal #######\n",
    "\n",
    "dnhat=[]\n",
    "for i in range(n):\n",
    "\td_prime = rt[i*round(fs*tb):(i+1)*round(fs*tb)]\n",
    "\tavg = sum(d_prime) / round(fs*tb)     # averaging out the one bit window and the comapring\n",
    "\tif avg > 0.5:\n",
    "\t\tdnhat = dnhat + [1]\n",
    "\telse:\n",
    "\t\tdnhat = dnhat + [0]\n",
    "\n",
    "#####################################################\n",
    "dnhat = array(dnhat,int8)\t # converting list into binary array\n",
    "\n",
    "print(\"\")\n",
    "print('The content of the wav file is \"%s\"' %af.bin2asc(dnhat))\n",
    "print(\"\")\n",
    "\n"
   ]
  },
  {
   "cell_type": "code",
   "execution_count": 6,
   "metadata": {
    "collapsed": false
   },
   "outputs": [
    {
     "data": {
      "text/plain": [
       "160"
      ]
     },
     "execution_count": 6,
     "metadata": {},
     "output_type": "execute_result"
    }
   ],
   "source": [
    "len(dnhat)"
   ]
  },
  {
   "cell_type": "markdown",
   "metadata": {},
   "source": [
    "# We found that the text encoded into the ftpam_sig02.wav file is \"Who is Tuna \"Phish\"?\" and the bit rate is 300 Hz."
   ]
  },
  {
   "cell_type": "code",
   "execution_count": null,
   "metadata": {
    "collapsed": true
   },
   "outputs": [],
   "source": []
  },
  {
   "cell_type": "markdown",
   "metadata": {},
   "source": [
    "# Now we will try to decode the content of file ftpam_sig03.wav containing noise using the same code. Given bit rate is given as 100 Hz."
   ]
  },
  {
   "cell_type": "code",
   "execution_count": 9,
   "metadata": {
    "collapsed": false
   },
   "outputs": [
    {
     "name": "stdout",
     "output_type": "stream",
     "text": [
      "\n",
      "The content of the wav file is \"Cosmic Dustbuster\"\n",
      "\n"
     ]
    }
   ],
   "source": [
    "# File: ftpam_rcvr01.py\n",
    "# Script file that accepts a binary unipolar flat top PAM\n",
    "# signal r(t) with bitrate fb and sampling rate fs\n",
    "# as input and decodes it into a received text string.\n",
    "# The PAM signal r(t) is received from a wav-file with\n",
    "# sampling rate fs. First r(t) is sampled at the right DT sequence \n",
    "# sampling times, spaced tb = 1/fb apart. The result is then \n",
    "# quantized to binary (0 or 1) to form the \n",
    "# estimated received sequence dnhat which is subsequently\n",
    "# converted to 8 bit ASCII text.\n",
    "\n",
    "from pylab import *\n",
    "import ascfun as af\n",
    "import wavfun as wf\n",
    "#filename = input(\"Enter the file name (wav): \")\n",
    "rt, fs = wf.wavread(\"ftpam_sig03.wav\")\n",
    "\n",
    "fb = 100                                         # Given in the question\n",
    "tb = 1/float(fb)\n",
    "\n",
    "bits = 8\n",
    "n = int(floor(len(rt)/float(fs)/tb)) \t# number of received bits\n",
    "\n",
    "rt = list(rt)  \t# changing rt into list type\n",
    "comp_val = (max(rt) + min(rt))/2.0 \t# taking mid value for estimation\n",
    "\n",
    "######### getting sample of rt signal #######\n",
    "\n",
    "dnhat=[]\n",
    "for i in range(n):\n",
    "\td_prime = rt[i*round(fs*tb):(i+1)*round(fs*tb)]\n",
    "\tavg = sum(d_prime) / round(fs*tb)     # averaging out the one bit window and the comapring\n",
    "\tif avg > 0.5:\n",
    "\t\tdnhat = dnhat + [1]\n",
    "\telse:\n",
    "\t\tdnhat = dnhat + [0]\n",
    "\n",
    "#####################################################\n",
    "dnhat = array(dnhat,int8)\t # converting list into binary array\n",
    "\n",
    "print(\"\")\n",
    "print('The content of the wav file is \"%s\"' %af.bin2asc(dnhat))\n",
    "print(\"\")\n",
    "\n"
   ]
  },
  {
   "cell_type": "markdown",
   "metadata": {},
   "source": [
    "# We found that the text encoded into the ftpam_sig03.wav file is \"Cosmic Dustbuster\"."
   ]
  },
  {
   "cell_type": "code",
   "execution_count": null,
   "metadata": {
    "collapsed": true
   },
   "outputs": [],
   "source": []
  }
 ],
 "metadata": {
  "kernelspec": {
   "display_name": "Python 3",
   "language": "python",
   "name": "python3"
  },
  "language_info": {
   "codemirror_mode": {
    "name": "ipython",
    "version": 3
   },
   "file_extension": ".py",
   "mimetype": "text/x-python",
   "name": "python",
   "nbconvert_exporter": "python",
   "pygments_lexer": "ipython3",
   "version": "3.5.1"
  }
 },
 "nbformat": 4,
 "nbformat_minor": 0
}
